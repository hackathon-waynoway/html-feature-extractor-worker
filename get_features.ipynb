{
 "nbformat": 4,
 "nbformat_minor": 2,
 "metadata": {
  "language_info": {
   "name": "python",
   "codemirror_mode": {
    "name": "ipython",
    "version": 3
   },
   "version": "3.7.4-final"
  },
  "orig_nbformat": 2,
  "file_extension": ".py",
  "mimetype": "text/x-python",
  "name": "python",
  "npconvert_exporter": "python",
  "pygments_lexer": "ipython3",
  "version": 3,
  "kernelspec": {
   "name": "python37464bitbaseconda406b72eba46542af8f68f5e774ad6094",
   "display_name": "Python 3.7.4 64-bit ('base': conda)"
  }
 },
 "cells": [
  {
   "cell_type": "code",
   "execution_count": 56,
   "metadata": {},
   "outputs": [],
   "source": [
    "from sklearn.multiclass import OneVsRestClassifier\n",
    "import numpy as np\n",
    "import matplotlib.pyplot as plt\n",
    "import json\n",
    "import csv\n",
    "import pandas\n",
    "from pandas.io.json import json_normalize  "
   ]
  },
  {
   "cell_type": "code",
   "execution_count": 85,
   "metadata": {},
   "outputs": [
    {
     "name": "stdout",
     "output_type": "stream",
     "text": "Index(['top', 'left', 'width', 'height', 'itemType', 'itemProp', 'tagName',\n       'elementId', 'classList', 'fontSize', 'fontStyle', 'font', 'fontWeight',\n       'lineHeight', 'opacity', 'color', 'backgroundColor', 'backgroundImage',\n       'background', 'textContent'],\n      dtype='object')\n"
    }
   ],
   "source": [
    "with open('output/losangeles.eventful.com!events!categories!music.json') as f: \n",
    "    d = json.load(f) \n",
    "    df = json_normalize(d[\"elements\"]) \n",
    "    df.drop(labels=\"textContent\", axis=1)\n",
    "    df.to_csv(\"output/losangeles.eventful.com!events!categories!music.csv\")\n",
    "    print(df.columns) "
   ]
  },
  {
   "cell_type": "code",
   "execution_count": null,
   "metadata": {},
   "outputs": [],
   "source": []
  }
 ]
}