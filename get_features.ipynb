{
 "nbformat": 4,
 "nbformat_minor": 2,
 "metadata": {
  "language_info": {
   "name": "python",
   "codemirror_mode": {
    "name": "ipython",
    "version": 3
   },
   "version": "3.7.4-final"
  },
  "orig_nbformat": 2,
  "file_extension": ".py",
  "mimetype": "text/x-python",
  "name": "python",
  "npconvert_exporter": "python",
  "pygments_lexer": "ipython3",
  "version": 3,
  "kernelspec": {
   "name": "python37464bitbaseconda406b72eba46542af8f68f5e774ad6094",
   "display_name": "Python 3.7.4 64-bit ('base': conda)"
  }
 },
 "cells": [
  {
   "cell_type": "code",
   "execution_count": 7,
   "metadata": {},
   "outputs": [
    {
     "name": "stdout",
     "output_type": "stream",
     "text": "Hello world\n"
    }
   ],
   "source": [
    "from sklearn.multiclass import OneVsRestClassifier\n",
    "import numpy as np\n",
    "import matplotlib.pyplot as plt\n",
    "import json"
   ]
  },
  {
   "cell_type": "code",
   "execution_count": 27,
   "metadata": {},
   "outputs": [
    {
     "name": "stdout",
     "output_type": "stream",
     "text": "(1412,)\n{'top': 0, 'left': 0, 'width': 0, 'height': 0, 'itemType': None, 'itemProp': None, 'tagName': 'SCRIPT', 'elementId': '', 'classList': [], 'fontSize': '16px', 'fontStyle': 'normal', 'font': '16px \"Times New Roman\"', 'fontWeight': '400', 'lineHeight': 'normal', 'opacity': '1', 'color': 'rgb(0, 0, 0)', 'backgroundColor': 'rgba(0, 0, 0, 0)', 'backgroundImage': 'none', 'background': 'rgba(0, 0, 0, 0) none repeat scroll 0% 0% / auto padding-box border-box', 'textContent': ''}\n"
    }
   ],
   "source": [
    "with open('output/losangeles.eventful.com!events!categories!music.json') as json_file:\n",
    "    data = json.load(json_file)\n",
    "    numpy_2d_arrays = np.array(data[\"elements\"])\n",
    "    print(numpy_2d_arrays.shape)\n",
    "    print(numpy_2d_arrays[5])\n"
   ]
  },
  {
   "cell_type": "code",
   "execution_count": null,
   "metadata": {},
   "outputs": [],
   "source": []
  }
 ]
}