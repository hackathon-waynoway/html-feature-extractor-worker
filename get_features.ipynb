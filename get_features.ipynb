{
 "nbformat": 4,
 "nbformat_minor": 2,
 "metadata": {
  "language_info": {
   "name": "python",
   "codemirror_mode": {
    "name": "ipython",
    "version": 3
   },
   "version": "3.7.4-final"
  },
  "orig_nbformat": 2,
  "file_extension": ".py",
  "mimetype": "text/x-python",
  "name": "python",
  "npconvert_exporter": "python",
  "pygments_lexer": "ipython3",
  "version": 3,
  "kernelspec": {
   "name": "python37464bitbaseconda406b72eba46542af8f68f5e774ad6094",
   "display_name": "Python 3.7.4 64-bit ('base': conda)"
  }
 },
 "cells": [
  {
   "cell_type": "code",
   "execution_count": 31,
   "metadata": {},
   "outputs": [],
   "source": [
    "from sklearn.multiclass import OneVsRestClassifier\n",
    "from sklearn.model_selection import train_test_split\n",
    "import numpy as np\n",
    "import matplotlib.pyplot as plt\n",
    "import json\n",
    "import csv\n",
    "import pandas\n",
    "import re\n",
    "from pathlib import Path\n",
    "from datetime import datetime\n",
    "from pandas.io.json import json_normalize \n",
    "import matplotlib.pyplot as plt "
   ]
  },
  {
   "cell_type": "code",
   "execution_count": 51,
   "metadata": {},
   "outputs": [
    {
     "name": "stdout",
     "output_type": "stream",
     "text": "s3_prefix = 2020_01_28_12_19_18\n"
    }
   ],
   "source": [
    "now = datetime.now()\n",
    "s3_prefix = now.strftime(\"%Y_%m_%d_%H_%M_%S\")\n",
    "print(\"s3_prefix =\", s3_prefix)"
   ]
  },
  {
   "cell_type": "code",
   "execution_count": 52,
   "metadata": {},
   "outputs": [],
   "source": [
    "# Now run populate-queue to take the unique list of urls and send them to be parsed by the worker\n",
    "## TODO: run command to tu"
   ]
  },
  {
   "cell_type": "code",
   "execution_count": 53,
   "metadata": {},
   "outputs": [
    {
     "name": "stdout",
     "output_type": "stream",
     "text": "{ verbose: false,\n  input: 'output/unique_url.txt',\n  count: '2',\n  prefix: '2020_01_28_12_19_18' }\nDONE!\nFinished sending 2 messages to https://sqs.us-east-1.amazonaws.com/109628666462/html-feature-extractor-worker-queue. Ending now..\n"
    }
   ],
   "source": [
    "%%bash -s \"$s3_prefix\"\n",
    "export AWS_PROFILE=\"bmccarthy\" && node src/populate-queue.js -i output/unique_url.txt -p $1 -c 2\n"
   ]
  },
  {
   "cell_type": "code",
   "execution_count": 54,
   "metadata": {},
   "outputs": [],
   "source": [
    "%%bash -s \"$s3_prefix\"\n",
    "aws s3 cp s3://html-feature-extractor-worker-output/$1/ output/$1 --recursive --exclude \"*\" --include \"*.json\" --profile bmccarthy"
   ]
  },
  {
   "cell_type": "code",
   "execution_count": 24,
   "metadata": {},
   "outputs": [],
   "source": [
    "pathlist = Path('output/' + s3_prefix).glob('**/*.json')\n",
    "for path in pathlist:\n",
    "    path_in_str = str(path)\n",
    "    with open(path_in_str) as f: \n",
    "        d = json.load(f) \n",
    "        df = json_normalize(d[\"elements\"]) \n",
    "        df.append()\n",
    "\n"
   ]
  },
  {
   "cell_type": "code",
   "execution_count": 17,
   "metadata": {},
   "outputs": [
    {
     "name": "stdout",
     "output_type": "stream",
     "text": "Whole set: (1411, 8) (1411,)\nTraining set: (1128, 8) (1128,)\nTesting set: (283, 8) (283,)\nUsageError: Line magic function `%%bash` not found.\n"
    }
   ],
   "source": [
    "with open('output/losangeles.eventful.com!events!categories!music.json') as f: \n",
    "    d = json.load(f) \n",
    "    df = json_normalize(d[\"elements\"]) \n",
    "\n",
    "    df.fontSize = df.fontSize.apply(lambda x : re.sub(\"[^0-9]\", \"\", x))\n",
    "    df.lineHeight = df.lineHeight.apply(lambda x : re.sub(\"[^0-9]\", \"\", x))\n",
    "    df.itemType = df.itemType.apply(lambda x : \"http://schema.org/Event\" == x)\n",
    "\n",
    "    y = df.itemType\n",
    "    X = df.drop(labels=[\"color\", \"elementId\", \"tagName\", \"classList\", \"textContent\", \"font\", \"fontStyle\", \"backgroundColor\", \"background\", \"backgroundImage\", \"itemType\", \"itemProp\"], axis=1)\n",
    "\n",
    "    xTrain, xTest, yTrain, yTest = train_test_split(X, y, test_size = 0.2, random_state = 42)\n",
    "\n",
    "    print(\"Whole set:\", X.shape, y.shape)\n",
    "    print(\"Training set:\", xTrain.shape, yTrain.shape)\n",
    "    print(\"Testing set:\", xTest.shape, yTest.shape)\n",
    "\n"
   ]
  }
 ]
}