{
 "nbformat": 4,
 "nbformat_minor": 2,
 "metadata": {
  "language_info": {
   "name": "python",
   "codemirror_mode": {
    "name": "ipython",
    "version": 3
   },
   "version": "3.7.4-final"
  },
  "orig_nbformat": 2,
  "file_extension": ".py",
  "mimetype": "text/x-python",
  "name": "python",
  "npconvert_exporter": "python",
  "pygments_lexer": "ipython3",
  "version": 3,
  "kernelspec": {
   "name": "python37464bitbaseconda406b72eba46542af8f68f5e774ad6094",
   "display_name": "Python 3.7.4 64-bit ('base': conda)"
  }
 },
 "cells": [
  {
   "cell_type": "code",
   "execution_count": 2,
   "metadata": {},
   "outputs": [],
   "source": [
    "from sklearn.multiclass import OneVsRestClassifier\n",
    "from sklearn.model_selection import train_test_split\n",
    "import numpy as np\n",
    "import matplotlib.pyplot as plt\n",
    "import json\n",
    "import csv\n",
    "import pandas\n",
    "import re\n",
    "from pandas.io.json import json_normalize \n",
    "import matplotlib.pyplot as plt "
   ]
  },
  {
   "cell_type": "code",
   "execution_count": 12,
   "metadata": {},
   "outputs": [
    {
     "name": "stdout",
     "output_type": "stream",
     "text": "Whole set: (1411, 8) (1411,)\nTraining set: (1128, 8) (1128,)\nTesting set: (283, 8) (283,)\n"
    }
   ],
   "source": [
    "with open('output/losangeles.eventful.com!events!categories!music.json') as f: \n",
    "    d = json.load(f) \n",
    "    df = json_normalize(d[\"elements\"]) \n",
    "\n",
    "    df.fontSize = df.fontSize.apply(lambda x : re.sub(\"[^0-9]\", \"\", x))\n",
    "    df.lineHeight = df.lineHeight.apply(lambda x : re.sub(\"[^0-9]\", \"\", x))\n",
    "    df.itemType = df.itemType.apply(lambda x : \"http://schema.org/Event\" == x)\n",
    "\n",
    "    y = df.itemType\n",
    "    X = df.drop(labels=[\"color\", \"elementId\", \"tagName\", \"classList\", \"textContent\", \"font\", \"fontStyle\", \"backgroundColor\", \"background\", \"backgroundImage\", \"itemType\", \"itemProp\"], axis=1)\n",
    "\n",
    "    xTrain, xTest, yTrain, yTest = train_test_split(X, y, test_size = 0.2, random_state = 42)\n",
    "\n",
    "    print(\"Whole set:\", X.shape, y.shape)\n",
    "    print(\"Training set:\", xTrain.shape, yTrain.shape)\n",
    "    print(\"Testing set:\", xTest.shape, yTest.shape)\n",
    "\n",
    "\n"
   ]
  },
  {
   "cell_type": "code",
   "execution_count": null,
   "metadata": {},
   "outputs": [],
   "source": []
  }
 ]
}